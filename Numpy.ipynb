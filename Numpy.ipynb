{
 "cells": [
  {
   "cell_type": "code",
   "execution_count": 3,
   "id": "1a4d9183-f636-41c0-8dc8-287374759908",
   "metadata": {},
   "outputs": [
    {
     "name": "stdout",
     "output_type": "stream",
     "text": [
      "<class 'numpy.ndarray'>\n",
      "[0 1 2 3]\n"
     ]
    }
   ],
   "source": [
    "import numpy as np\n",
    "a = np.array([0,1,2,3])\n",
    "\n",
    "print(type(a))\n",
    "print(a)"
   ]
  },
  {
   "cell_type": "code",
   "execution_count": 4,
   "id": "e818d389-558a-4813-ab63-7d63bea7f4f2",
   "metadata": {},
   "outputs": [
    {
     "data": {
      "text/plain": [
       "array([0, 1, 2, 3, 4, 5, 6, 7, 8, 9])"
      ]
     },
     "execution_count": 4,
     "metadata": {},
     "output_type": "execute_result"
    }
   ],
   "source": [
    "np.arange(10)"
   ]
  },
  {
   "cell_type": "code",
   "execution_count": 30,
   "id": "187a235b-2139-43ff-b1f2-6fa690c5b453",
   "metadata": {},
   "outputs": [
    {
     "name": "stdout",
     "output_type": "stream",
     "text": [
      "2\n",
      "(3, 4)\n",
      "2\n",
      "12\n"
     ]
    }
   ],
   "source": [
    "import numpy as np\n",
    "\n",
    "# a = np.array(10)\n",
    "a = np.array([\n",
    "                [1,2,3,4],\n",
    "                [5,6,7,8],\n",
    "                [9,10,11,12]\n",
    "            ])\n",
    "\n",
    "print(a.ndim)\n",
    "print(a.shape)\n",
    "print(len(a.shape))\n",
    "print(a.size)\n",
    "# print(len(a))\n"
   ]
  },
  {
   "cell_type": "code",
   "execution_count": 51,
   "id": "8b63caef-824b-4037-a4be-9aefdfebb5e2",
   "metadata": {},
   "outputs": [],
   "source": [
    "arr1 = np.zeros((4,2,3), dtype = int)\n",
    "arr2 = np.ones((4,5), dtype = int)\n",
    "arr3 = np.eye(5, dtype = int)\n",
    "arr4 = np.diag([1,2,3,4,5])\n",
    "arr5 = np.empty((2,3), dtype=int)\n",
    "arr6 = np.arange(2, 19, 3)\n",
    "arr7 = np.linspace(2, 10, num = 7)"
   ]
  },
  {
   "cell_type": "markdown",
   "id": "83e90127-ca07-4693-9fb7-5a0fc7637e76",
   "metadata": {},
   "source": [
    "<h3>Sorting & ArgSort</h3>"
   ]
  },
  {
   "cell_type": "code",
   "execution_count": 56,
   "id": "c08c904d-e01e-4ebb-88fd-92c490470e66",
   "metadata": {},
   "outputs": [
    {
     "data": {
      "text/plain": [
       "array([ 1,  2,  2,  3,  3,  4,  5,  6,  6,  7,  9, 77, 77])"
      ]
     },
     "execution_count": 56,
     "metadata": {},
     "output_type": "execute_result"
    }
   ],
   "source": [
    "arr = np.array([1,4,2,6,77,3,5,77,3,2,6,9,7])\n",
    "np.sort(arr)"
   ]
  },
  {
   "cell_type": "code",
   "execution_count": 57,
   "id": "3a2f7b6c-5f9f-4a25-ac97-ad29f796464c",
   "metadata": {},
   "outputs": [
    {
     "data": {
      "text/plain": [
       "array([ 0,  2,  9,  5,  8,  1,  6,  3, 10, 12, 11,  4,  7], dtype=int64)"
      ]
     },
     "execution_count": 57,
     "metadata": {},
     "output_type": "execute_result"
    }
   ],
   "source": [
    "np.argsort(arr)"
   ]
  },
  {
   "cell_type": "code",
   "execution_count": 58,
   "id": "f9d801f7-66ec-489d-9919-6c42503a6005",
   "metadata": {},
   "outputs": [
    {
     "data": {
      "text/plain": [
       "array([ 0,  2,  9,  5,  8,  1,  6,  3, 10, 12, 11,  4,  7], dtype=int64)"
      ]
     },
     "execution_count": 58,
     "metadata": {},
     "output_type": "execute_result"
    }
   ],
   "source": [
    "arr.argsort()"
   ]
  },
  {
   "cell_type": "markdown",
   "id": "454b930e-71aa-4681-acbe-5842ec73e424",
   "metadata": {},
   "source": [
    "<h3>Concatenate, Reshape</h3>"
   ]
  },
  {
   "cell_type": "code",
   "execution_count": 66,
   "id": "adcc3415-e6f2-4705-aad9-d6f57df646e8",
   "metadata": {},
   "outputs": [
    {
     "data": {
      "text/plain": [
       "array([[1, 2, 3],\n",
       "       [4, 5, 6],\n",
       "       [7, 8, 9]])"
      ]
     },
     "execution_count": 66,
     "metadata": {},
     "output_type": "execute_result"
    }
   ],
   "source": [
    "a = np.array([[1,2,3], [4,5,6]])\n",
    "b = np.array([[7,8,9]])\n",
    "\n",
    "np.concatenate((a,b), axis = 0)"
   ]
  },
  {
   "cell_type": "code",
   "execution_count": 67,
   "id": "e92baa45-ece8-4d4f-bb8b-e198dbb822be",
   "metadata": {},
   "outputs": [
    {
     "data": {
      "text/plain": [
       "array([[2, 4],\n",
       "       [6, 8]])"
      ]
     },
     "execution_count": 67,
     "metadata": {},
     "output_type": "execute_result"
    }
   ],
   "source": [
    "a = np.arange(2,10,2)\n",
    "a.reshape(2,2)"
   ]
  },
  {
   "cell_type": "markdown",
   "id": "397f1a6e-fdbe-4186-9890-8f241a470fd9",
   "metadata": {},
   "source": [
    "<h3>Adding New Axis/ Dimensions</h3>"
   ]
  },
  {
   "cell_type": "code",
   "execution_count": 69,
   "id": "bc18c125-861a-465b-a171-8cd684bbcf7b",
   "metadata": {},
   "outputs": [
    {
     "name": "stdout",
     "output_type": "stream",
     "text": [
      "(6,)\n",
      "1\n"
     ]
    }
   ],
   "source": [
    "a = np.array([1,2,3,4,5,6])\n",
    "print(a.shape)\n",
    "print(a.ndim)"
   ]
  },
  {
   "cell_type": "code",
   "execution_count": 70,
   "id": "b887fd27-4f29-4456-994e-ace2af22170b",
   "metadata": {},
   "outputs": [
    {
     "data": {
      "text/plain": [
       "array([[1, 2, 3, 4, 5, 6]])"
      ]
     },
     "execution_count": 70,
     "metadata": {},
     "output_type": "execute_result"
    }
   ],
   "source": [
    "a2 = a[np.newaxis, :]\n",
    "# See we are adding new row axis. So, it becomes (1,6)\n",
    "a2 # it is like a row vector"
   ]
  },
  {
   "cell_type": "code",
   "execution_count": 71,
   "id": "38d4b16e-74ae-4f72-b117-f1c4f7a09d52",
   "metadata": {},
   "outputs": [
    {
     "data": {
      "text/plain": [
       "array([[1],\n",
       "       [2],\n",
       "       [3],\n",
       "       [4],\n",
       "       [5],\n",
       "       [6]])"
      ]
     },
     "execution_count": 71,
     "metadata": {},
     "output_type": "execute_result"
    }
   ],
   "source": [
    "a3 = a[ : , np.newaxis]\n",
    "a3 # Will make it (6,1) shaped.\n",
    "# It is like a column vector."
   ]
  },
  {
   "cell_type": "code",
   "execution_count": 75,
   "id": "2c1edb92-3a7b-445d-bc97-9c6cf492126b",
   "metadata": {},
   "outputs": [
    {
     "name": "stdout",
     "output_type": "stream",
     "text": [
      "[[1]\n",
      " [2]\n",
      " [3]\n",
      " [4]\n",
      " [5]\n",
      " [6]]\n"
     ]
    }
   ],
   "source": [
    "# Also does the same thing.\n",
    "rowVector = np.expand_dims(a, axis = 0)\n",
    "colVector = np.expand_dims(a, axis = 1)\n",
    "print(colVector)"
   ]
  },
  {
   "cell_type": "markdown",
   "id": "3f3868a8-3e34-4d55-876e-2bbfc521072c",
   "metadata": {},
   "source": [
    "<h3>Condition Based Slicing</h3>"
   ]
  },
  {
   "cell_type": "code",
   "execution_count": 76,
   "id": "7ae9f0bf-b403-4b21-8f44-e9d38c3192c9",
   "metadata": {},
   "outputs": [
    {
     "data": {
      "text/plain": [
       "array([[13, 10,  2,  4],\n",
       "       [ 7,  5, 12,  8],\n",
       "       [10,  4,  7, 13]])"
      ]
     },
     "execution_count": 76,
     "metadata": {},
     "output_type": "execute_result"
    }
   ],
   "source": [
    "a = np.array([[13,10,2,4],[7,5,12,8],[10,4,7,13]])\n",
    "a"
   ]
  },
  {
   "cell_type": "code",
   "execution_count": 78,
   "id": "1e6cd2e9-a423-4dc4-b60f-2e60d403ec3c",
   "metadata": {},
   "outputs": [
    {
     "data": {
      "text/plain": [
       "array([[False, False, False, False],\n",
       "       [ True, False, False,  True],\n",
       "       [False, False,  True, False]])"
      ]
     },
     "execution_count": 78,
     "metadata": {},
     "output_type": "execute_result"
    }
   ],
   "source": [
    "(a > 5) & (a < 10)"
   ]
  },
  {
   "cell_type": "code",
   "execution_count": 79,
   "id": "a1a14238-1188-414c-a34a-e3a8a6be673f",
   "metadata": {},
   "outputs": [
    {
     "data": {
      "text/plain": [
       "array([7, 8, 7])"
      ]
     },
     "execution_count": 79,
     "metadata": {},
     "output_type": "execute_result"
    }
   ],
   "source": [
    "# ---> Now These boolean values can be passed as slicing Condition:\n",
    "# ---> But the Output is always 1D Array.\n",
    "mask = (a > 5) & (a < 10)\n",
    "a[mask]"
   ]
  },
  {
   "cell_type": "code",
   "execution_count": 80,
   "id": "f452b679-e7c4-4018-a7a2-7cf70c1a16ef",
   "metadata": {},
   "outputs": [
    {
     "data": {
      "text/plain": [
       "(array([0, 0, 2], dtype=int64), array([2, 3, 1], dtype=int64))"
      ]
     },
     "execution_count": 80,
     "metadata": {},
     "output_type": "execute_result"
    }
   ],
   "source": [
    "np.nonzero(a < 5)"
   ]
  },
  {
   "cell_type": "markdown",
   "id": "83333804-b850-4d91-82f6-ea0c78393238",
   "metadata": {},
   "source": [
    "<h3> Horizontal, Vertical Stack, Horizontal Split </h3>"
   ]
  },
  {
   "cell_type": "code",
   "execution_count": null,
   "id": "986b7dc4-2f3c-4732-9685-f88e2ba8dc39",
   "metadata": {},
   "outputs": [],
   "source": []
  }
 ],
 "metadata": {
  "kernelspec": {
   "display_name": "Python 3 (ipykernel)",
   "language": "python",
   "name": "python3"
  },
  "language_info": {
   "codemirror_mode": {
    "name": "ipython",
    "version": 3
   },
   "file_extension": ".py",
   "mimetype": "text/x-python",
   "name": "python",
   "nbconvert_exporter": "python",
   "pygments_lexer": "ipython3",
   "version": "3.9.6"
  }
 },
 "nbformat": 4,
 "nbformat_minor": 5
}
