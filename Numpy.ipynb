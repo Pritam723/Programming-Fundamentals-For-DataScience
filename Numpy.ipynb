{
  "cells": [
    {
      "cell_type": "code",
      "execution_count": 3,
      "id": "1a4d9183-f636-41c0-8dc8-287374759908",
      "metadata": {},
      "outputs": [
        {
          "name": "stdout",
          "output_type": "stream",
          "text": [
            "<class 'numpy.ndarray'>\n",
            "[0 1 2 3]\n"
          ]
        }
      ],
      "source": [
        "import numpy as np\n",
        "a = np.array([0,1,2,3])\n",
        "\n",
        "print(type(a))\n",
        "print(a)"
      ]
    },
    {
      "cell_type": "code",
      "execution_count": 4,
      "id": "e818d389-558a-4813-ab63-7d63bea7f4f2",
      "metadata": {},
      "outputs": [
        {
          "data": {
            "text/plain": [
              "array([0, 1, 2, 3, 4, 5, 6, 7, 8, 9])"
            ]
          },
          "execution_count": 4,
          "metadata": {},
          "output_type": "execute_result"
        }
      ],
      "source": [
        "np.arange(10)"
      ]
    },
    {
      "cell_type": "code",
      "execution_count": 30,
      "id": "187a235b-2139-43ff-b1f2-6fa690c5b453",
      "metadata": {},
      "outputs": [
        {
          "name": "stdout",
          "output_type": "stream",
          "text": [
            "2\n",
            "(3, 4)\n",
            "2\n",
            "12\n"
          ]
        }
      ],
      "source": [
        "import numpy as np\n",
        "\n",
        "# a = np.array(10)\n",
        "a = np.array([\n",
        "                [1,2,3,4],\n",
        "                [5,6,7,8],\n",
        "                [9,10,11,12]\n",
        "            ])\n",
        "\n",
        "print(a.ndim)\n",
        "print(a.shape)\n",
        "print(len(a.shape))\n",
        "print(a.size)\n",
        "# print(len(a))\n"
      ]
    },
    {
      "cell_type": "code",
      "execution_count": 51,
      "id": "8b63caef-824b-4037-a4be-9aefdfebb5e2",
      "metadata": {},
      "outputs": [],
      "source": [
        "arr1 = np.zeros((4,2,3), dtype = int)\n",
        "arr2 = np.ones((4,5), dtype = int)\n",
        "arr3 = np.eye(5, dtype = int)\n",
        "arr4 = np.diag([1,2,3,4,5])\n",
        "arr5 = np.empty((2,3), dtype=int)\n",
        "arr6 = np.arange(2, 19, 3)\n",
        "arr7 = np.linspace(2, 10, num = 7)"
      ]
    },
    {
      "cell_type": "markdown",
      "id": "83e90127-ca07-4693-9fb7-5a0fc7637e76",
      "metadata": {},
      "source": [
        "<h3>Sorting & ArgSort</h3>"
      ]
    },
    {
      "cell_type": "code",
      "execution_count": 56,
      "id": "c08c904d-e01e-4ebb-88fd-92c490470e66",
      "metadata": {},
      "outputs": [
        {
          "data": {
            "text/plain": [
              "array([ 1,  2,  2,  3,  3,  4,  5,  6,  6,  7,  9, 77, 77])"
            ]
          },
          "execution_count": 56,
          "metadata": {},
          "output_type": "execute_result"
        }
      ],
      "source": [
        "arr = np.array([1,4,2,6,77,3,5,77,3,2,6,9,7])\n",
        "np.sort(arr)"
      ]
    },
    {
      "cell_type": "code",
      "execution_count": 57,
      "id": "3a2f7b6c-5f9f-4a25-ac97-ad29f796464c",
      "metadata": {},
      "outputs": [
        {
          "data": {
            "text/plain": [
              "array([ 0,  2,  9,  5,  8,  1,  6,  3, 10, 12, 11,  4,  7], dtype=int64)"
            ]
          },
          "execution_count": 57,
          "metadata": {},
          "output_type": "execute_result"
        }
      ],
      "source": [
        "np.argsort(arr)"
      ]
    },
    {
      "cell_type": "code",
      "execution_count": 58,
      "id": "f9d801f7-66ec-489d-9919-6c42503a6005",
      "metadata": {},
      "outputs": [
        {
          "data": {
            "text/plain": [
              "array([ 0,  2,  9,  5,  8,  1,  6,  3, 10, 12, 11,  4,  7], dtype=int64)"
            ]
          },
          "execution_count": 58,
          "metadata": {},
          "output_type": "execute_result"
        }
      ],
      "source": [
        "arr.argsort()"
      ]
    },
    {
      "cell_type": "markdown",
      "id": "454b930e-71aa-4681-acbe-5842ec73e424",
      "metadata": {},
      "source": [
        "<h3>Concatenate, Reshape</h3>"
      ]
    },
    {
      "cell_type": "code",
      "execution_count": 66,
      "id": "adcc3415-e6f2-4705-aad9-d6f57df646e8",
      "metadata": {},
      "outputs": [
        {
          "data": {
            "text/plain": [
              "array([[1, 2, 3],\n",
              "       [4, 5, 6],\n",
              "       [7, 8, 9]])"
            ]
          },
          "execution_count": 66,
          "metadata": {},
          "output_type": "execute_result"
        }
      ],
      "source": [
        "a = np.array([[1,2,3], [4,5,6]])\n",
        "b = np.array([[7,8,9]])\n",
        "\n",
        "np.concatenate((a,b), axis = 0)"
      ]
    },
    {
      "cell_type": "code",
      "execution_count": 67,
      "id": "e92baa45-ece8-4d4f-bb8b-e198dbb822be",
      "metadata": {},
      "outputs": [
        {
          "data": {
            "text/plain": [
              "array([[2, 4],\n",
              "       [6, 8]])"
            ]
          },
          "execution_count": 67,
          "metadata": {},
          "output_type": "execute_result"
        }
      ],
      "source": [
        "a = np.arange(2,10,2)\n",
        "a.reshape(2,2)"
      ]
    },
    {
      "cell_type": "markdown",
      "id": "397f1a6e-fdbe-4186-9890-8f241a470fd9",
      "metadata": {},
      "source": [
        "<h3>Adding New Axis/ Dimensions</h3>"
      ]
    },
    {
      "cell_type": "code",
      "execution_count": 69,
      "id": "bc18c125-861a-465b-a171-8cd684bbcf7b",
      "metadata": {},
      "outputs": [
        {
          "name": "stdout",
          "output_type": "stream",
          "text": [
            "(6,)\n",
            "1\n"
          ]
        }
      ],
      "source": [
        "a = np.array([1,2,3,4,5,6])\n",
        "print(a.shape)\n",
        "print(a.ndim)"
      ]
    },
    {
      "cell_type": "code",
      "execution_count": 70,
      "id": "b887fd27-4f29-4456-994e-ace2af22170b",
      "metadata": {},
      "outputs": [
        {
          "data": {
            "text/plain": [
              "array([[1, 2, 3, 4, 5, 6]])"
            ]
          },
          "execution_count": 70,
          "metadata": {},
          "output_type": "execute_result"
        }
      ],
      "source": [
        "a2 = a[np.newaxis, :]\n",
        "# See we are adding new row axis. So, it becomes (1,6)\n",
        "a2 # it is like a row vector"
      ]
    },
    {
      "cell_type": "code",
      "execution_count": 71,
      "id": "38d4b16e-74ae-4f72-b117-f1c4f7a09d52",
      "metadata": {},
      "outputs": [
        {
          "data": {
            "text/plain": [
              "array([[1],\n",
              "       [2],\n",
              "       [3],\n",
              "       [4],\n",
              "       [5],\n",
              "       [6]])"
            ]
          },
          "execution_count": 71,
          "metadata": {},
          "output_type": "execute_result"
        }
      ],
      "source": [
        "a3 = a[ : , np.newaxis]\n",
        "a3 # Will make it (6,1) shaped.\n",
        "# It is like a column vector."
      ]
    },
    {
      "cell_type": "code",
      "execution_count": 75,
      "id": "2c1edb92-3a7b-445d-bc97-9c6cf492126b",
      "metadata": {},
      "outputs": [
        {
          "name": "stdout",
          "output_type": "stream",
          "text": [
            "[[1]\n",
            " [2]\n",
            " [3]\n",
            " [4]\n",
            " [5]\n",
            " [6]]\n"
          ]
        }
      ],
      "source": [
        "# Also does the same thing.\n",
        "rowVector = np.expand_dims(a, axis = 0)\n",
        "colVector = np.expand_dims(a, axis = 1)\n",
        "print(colVector)"
      ]
    },
    {
      "cell_type": "markdown",
      "id": "3f3868a8-3e34-4d55-876e-2bbfc521072c",
      "metadata": {},
      "source": [
        "<h3>Condition Based Slicing</h3>"
      ]
    },
    {
      "cell_type": "code",
      "execution_count": 76,
      "id": "7ae9f0bf-b403-4b21-8f44-e9d38c3192c9",
      "metadata": {},
      "outputs": [
        {
          "data": {
            "text/plain": [
              "array([[13, 10,  2,  4],\n",
              "       [ 7,  5, 12,  8],\n",
              "       [10,  4,  7, 13]])"
            ]
          },
          "execution_count": 76,
          "metadata": {},
          "output_type": "execute_result"
        }
      ],
      "source": [
        "a = np.array([[13,10,2,4],[7,5,12,8],[10,4,7,13]])\n",
        "a"
      ]
    },
    {
      "cell_type": "code",
      "execution_count": 78,
      "id": "1e6cd2e9-a423-4dc4-b60f-2e60d403ec3c",
      "metadata": {},
      "outputs": [
        {
          "data": {
            "text/plain": [
              "array([[False, False, False, False],\n",
              "       [ True, False, False,  True],\n",
              "       [False, False,  True, False]])"
            ]
          },
          "execution_count": 78,
          "metadata": {},
          "output_type": "execute_result"
        }
      ],
      "source": [
        "(a > 5) & (a < 10)"
      ]
    },
    {
      "cell_type": "code",
      "execution_count": 79,
      "id": "a1a14238-1188-414c-a34a-e3a8a6be673f",
      "metadata": {},
      "outputs": [
        {
          "data": {
            "text/plain": [
              "array([7, 8, 7])"
            ]
          },
          "execution_count": 79,
          "metadata": {},
          "output_type": "execute_result"
        }
      ],
      "source": [
        "# ---> Now These boolean values can be passed as slicing Condition:\n",
        "# ---> But the Output is always 1D Array.\n",
        "mask = (a > 5) & (a < 10)\n",
        "a[mask]"
      ]
    },
    {
      "cell_type": "code",
      "execution_count": 80,
      "id": "f452b679-e7c4-4018-a7a2-7cf70c1a16ef",
      "metadata": {},
      "outputs": [
        {
          "data": {
            "text/plain": [
              "(array([0, 0, 2], dtype=int64), array([2, 3, 1], dtype=int64))"
            ]
          },
          "execution_count": 80,
          "metadata": {},
          "output_type": "execute_result"
        }
      ],
      "source": [
        "np.nonzero(a < 5)"
      ]
    },
    {
      "cell_type": "markdown",
      "id": "51db7d0c-1fa0-4ec8-9fc5-ad1730ddf8e9",
      "metadata": {},
      "source": [
        "<h3>Horizontal, Vertical Stack. Horizontal Split</h3>"
      ]
    },
    {
      "cell_type": "code",
      "execution_count": 4,
      "id": "42a5f094-8cff-4064-9a9f-605b05b299a0",
      "metadata": {},
      "outputs": [],
      "source": [
        "import numpy as np\n",
        "a1 = np.array([\n",
        "                [1,1],\n",
        "                [2,2]\n",
        "                ])\n",
        "\n",
        "a2 = np.array([\n",
        "                [3,3],\n",
        "                [4,4]\n",
        "                ])\n",
        "# Must be careful about the dimensions while stacking."
      ]
    },
    {
      "cell_type": "code",
      "execution_count": 5,
      "id": "2352bb41-e77b-4fc6-81e2-b46e61df3154",
      "metadata": {},
      "outputs": [
        {
          "data": {
            "text/plain": [
              "array([[1, 1],\n",
              "       [2, 2],\n",
              "       [3, 3],\n",
              "       [4, 4]])"
            ]
          },
          "execution_count": 5,
          "metadata": {},
          "output_type": "execute_result"
        }
      ],
      "source": [
        "np.vstack((a1,a2))"
      ]
    },
    {
      "cell_type": "code",
      "execution_count": 6,
      "id": "e3e06a90-2d6a-42d5-a6b1-88a4a9e4a405",
      "metadata": {},
      "outputs": [
        {
          "data": {
            "text/plain": [
              "array([[1, 1, 3, 3],\n",
              "       [2, 2, 4, 4]])"
            ]
          },
          "execution_count": 6,
          "metadata": {},
          "output_type": "execute_result"
        }
      ],
      "source": [
        "np.hstack((a1,a2))"
      ]
    },
    {
      "cell_type": "code",
      "execution_count": 13,
      "id": "961f4880-78ec-4c54-ac43-10bd3e26c359",
      "metadata": {},
      "outputs": [
        {
          "data": {
            "text/plain": [
              "array([[ 1,  2,  3,  4,  5,  6,  7,  8,  9, 10, 11, 12],\n",
              "       [13, 14, 15, 16, 17, 18, 19, 20, 21, 22, 23, 24]])"
            ]
          },
          "execution_count": 13,
          "metadata": {},
          "output_type": "execute_result"
        }
      ],
      "source": [
        "# We \n",
        "\n",
        "x = np.arange(1,25).reshape(2,12)\n",
        "x"
      ]
    },
    {
      "cell_type": "code",
      "execution_count": 12,
      "id": "7ac02cdf-e7d9-4c12-b637-a8a1b91de01a",
      "metadata": {},
      "outputs": [
        {
          "data": {
            "text/plain": [
              "[array([[ 1,  2,  3,  4],\n",
              "        [13, 14, 15, 16]]),\n",
              " array([[ 5,  6,  7,  8],\n",
              "        [17, 18, 19, 20]]),\n",
              " array([[ 9, 10, 11, 12],\n",
              "        [21, 22, 23, 24]])]"
            ]
          },
          "execution_count": 12,
          "metadata": {},
          "output_type": "execute_result"
        }
      ],
      "source": [
        "# Splitting x into 3 equal arrays. It does not give ndarray. It gives List of same shaped ndarray.\n",
        "np.hsplit(x, 3)"
      ]
    },
    {
      "cell_type": "code",
      "execution_count": 14,
      "id": "c51c8e98-82a2-4aff-88b2-f53c237bd462",
      "metadata": {},
      "outputs": [
        {
          "data": {
            "text/plain": [
              "[array([[ 1,  2,  3],\n",
              "        [13, 14, 15]]),\n",
              " array([[ 4],\n",
              "        [16]]),\n",
              " array([[ 5,  6,  7],\n",
              "        [17, 18, 19]]),\n",
              " array([[ 8,  9, 10, 11, 12],\n",
              "        [20, 21, 22, 23, 24]])]"
            ]
          },
          "execution_count": 14,
          "metadata": {},
          "output_type": "execute_result"
        }
      ],
      "source": [
        "# We can specify split at positions too.\n",
        "np.hsplit(x, (3,4,7))"
      ]
    },
    {
      "cell_type": "markdown",
      "id": "c26ec890-77a4-4e0c-b250-ebe91e0fd77e",
      "metadata": {},
      "source": [
        "<h3>View, Copy</h3>"
      ]
    },
    {
      "cell_type": "markdown",
      "id": "3e4c3530-3287-4d06-86df-f836f016072c",
      "metadata": {},
      "source": [
        "When we are creating/splitting arrays we are creating Shallow copies."
      ]
    },
    {
      "cell_type": "code",
      "execution_count": 26,
      "id": "61bfabfa-df36-4684-ae16-281aa6e39dcc",
      "metadata": {},
      "outputs": [
        {
          "name": "stdout",
          "output_type": "stream",
          "text": [
            "[2 3]\n"
          ]
        },
        {
          "data": {
            "text/plain": [
              "array([0, 1, 2, 3, 4, 5, 6, 7, 8, 9])"
            ]
          },
          "execution_count": 26,
          "metadata": {},
          "output_type": "execute_result"
        }
      ],
      "source": [
        "arr = np.arange(10)\n",
        "b = arr[2:4].copy()\n",
        "\n",
        "print(b)\n",
        "\n",
        "b[1] = 20 # Btw we can't do b[2] although we are using views.\n",
        "arr # See arr is changed. Because b was pinting to same thing in the memory.\n",
        "# Indexing, Slicing everything returns views only."
      ]
    },
    {
      "cell_type": "code",
      "execution_count": 37,
      "id": "9e80d2f0-728f-444e-b672-180cc117faf3",
      "metadata": {},
      "outputs": [],
      "source": [
        "# To bypass this use .copy(). But it actually does shallowcopy only. For deepcopy use \"from copy import deepcopy\""
      ]
    },
    {
      "cell_type": "markdown",
      "id": "6aa4df85-18cf-4a5c-bd80-43faaab89b5d",
      "metadata": {},
      "source": [
        "<h3>Basic Array Operations</h3>"
      ]
    },
    {
      "cell_type": "code",
      "execution_count": 43,
      "id": "fd4f161b-27b9-478f-bd23-e2fddc9d4e96",
      "metadata": {},
      "outputs": [
        {
          "name": "stdout",
          "output_type": "stream",
          "text": [
            "[2 3 4 5 6 7 8 9]\n",
            "[ 5  6  7  8  9 10 11 12 13 14]\n"
          ]
        },
        {
          "ename": "ValueError",
          "evalue": "operands could not be broadcast together with shapes (8,) (10,) ",
          "output_type": "error",
          "traceback": [
            "\u001b[1;31m---------------------------------------------------------------------------\u001b[0m",
            "\u001b[1;31mValueError\u001b[0m                                Traceback (most recent call last)",
            "Input \u001b[1;32mIn [43]\u001b[0m, in \u001b[0;36m<cell line: 7>\u001b[1;34m()\u001b[0m\n\u001b[0;32m      5\u001b[0m \u001b[38;5;28mprint\u001b[39m(a)\n\u001b[0;32m      6\u001b[0m \u001b[38;5;28mprint\u001b[39m(b)\n\u001b[1;32m----> 7\u001b[0m \u001b[43ma\u001b[49m\u001b[38;5;241;43m+\u001b[39;49m\u001b[43mb\u001b[49m\n",
            "\u001b[1;31mValueError\u001b[0m: operands could not be broadcast together with shapes (8,) (10,) "
          ]
        }
      ],
      "source": [
        "# ndarray default mode: Element wise operation.\n",
        "# This happens due to broadcasting.\n",
        "a = np.arange(2,10)\n",
        "b = np.arange(5, 15)\n",
        "print(a)\n",
        "print(b)\n",
        "a+b # Will give error bcoz sizes are different."
      ]
    },
    {
      "cell_type": "code",
      "execution_count": 42,
      "id": "ded6f9d8-185e-44c8-b6e9-32770c30d2b7",
      "metadata": {},
      "outputs": [
        {
          "name": "stdout",
          "output_type": "stream",
          "text": [
            "[2 3 4 5 6 7 8 9]\n",
            "[ 5  6  7  8  9 10 11 12]\n",
            "[ 7  9 11 13 15 17 19 21]\n",
            "[0.4        0.5        0.57142857 0.625      0.66666667 0.7\n",
            " 0.72727273 0.75      ]\n"
          ]
        }
      ],
      "source": [
        "a = np.arange(2,10)\n",
        "b = np.arange(5, 13)\n",
        "print(a)\n",
        "print(b)\n",
        "print(a+b)\n",
        "print(a/b)"
      ]
    },
    {
      "cell_type": "code",
      "execution_count": 55,
      "id": "a3cd3f4d-b867-4159-8e86-97cfc9365cf2",
      "metadata": {},
      "outputs": [
        {
          "name": "stdout",
          "output_type": "stream",
          "text": [
            "[[1 2 3]\n",
            " [4 5 6]\n",
            " [7 8 9]]\n",
            "[ 6 15 24]\n",
            "[12 15 18]\n"
          ]
        }
      ],
      "source": [
        "a = np.arange(1, 10)\n",
        "b = a.reshape((3,3))\n",
        "\n",
        "print(b)\n",
        "\n",
        "print(b.sum(axis = 1))\n",
        "print(b.sum(axis = 0))"
      ]
    },
    {
      "cell_type": "code",
      "execution_count": 59,
      "id": "67f981bd-effb-4c27-afc3-38449d278c6e",
      "metadata": {},
      "outputs": [
        {
          "data": {
            "text/plain": [
              "45"
            ]
          },
          "execution_count": 59,
          "metadata": {},
          "output_type": "execute_result"
        }
      ],
      "source": [
        "a.sum(axis = 0) # Same as a.sum() as a.ndim is 1 only."
      ]
    },
    {
      "cell_type": "markdown",
      "id": "7395d080-55cd-4677-8485-c13b8d012ced",
      "metadata": {},
      "source": [
        "<h3>Min, Max, Mean, Std, Prod</h3>"
      ]
    },
    {
      "cell_type": "markdown",
      "id": "84a17b7f-3e77-480b-b06e-9a1029f8cd20",
      "metadata": {
        "tags": []
      },
      "source": [
        "<p>Same as sum() we can use these too.</p>\n",
        "<p>Std is +ve Root(var(x)) Where var(x) = (Sum of (xi - xn)^2)/(n-1)</p>\n",
        "<p>If we do not give axis, it gives for entire array.</p>\n",
        "<p>Population Variance = σ2 = ∑ (xi – x̄)2/n</p>\n",
        "<p>Sample Variance = σ2 = ∑ (xi – x̄)2/(n – 1)</p>"
      ]
    },
    {
      "cell_type": "code",
      "execution_count": 63,
      "id": "4c85732e-9b46-453f-bef3-6f8d2c388b44",
      "metadata": {},
      "outputs": [
        {
          "name": "stdout",
          "output_type": "stream",
          "text": [
            "[[1 2 3]\n",
            " [4 5 6]\n",
            " [7 8 9]]\n"
          ]
        },
        {
          "data": {
            "text/plain": [
              "array([2.44948974, 2.44948974, 2.44948974])"
            ]
          },
          "execution_count": 63,
          "metadata": {},
          "output_type": "execute_result"
        }
      ],
      "source": [
        "a = np.arange(1, 10)\n",
        "b = a.reshape((3,3))\n",
        "\n",
        "print(b)\n",
        "\n",
        "b.std(axis = 0)"
      ]
    },
    {
      "cell_type": "markdown",
      "id": "06193441-0b29-4b89-976c-bc4ab24bf6ca",
      "metadata": {},
      "source": [
        "<h3>Generating Random Numbers</h3>"
      ]
    },
    {
      "cell_type": "code",
      "execution_count": 65,
      "id": "a14b3a37-3f80-434d-812e-4a8c0a7306c9",
      "metadata": {},
      "outputs": [
        {
          "data": {
            "text/plain": [
              "array([[8, 3],\n",
              "       [8, 3],\n",
              "       [3, 4]])"
            ]
          },
          "execution_count": 65,
          "metadata": {},
          "output_type": "execute_result"
        }
      ],
      "source": [
        "np.random.randint(2, 9, (3,2)) # Gives 3*2 ndarray having random ints b/w 2 to 9."
      ]
    },
    {
      "cell_type": "code",
      "execution_count": 3,
      "id": "501e3e3d-88d5-418c-a262-d34196939c16",
      "metadata": {},
      "outputs": [
        {
          "data": {
            "text/plain": [
              "array([[0, 1, 2, 4],\n",
              "       [2, 1, 0, 1]], dtype=int64)"
            ]
          },
          "execution_count": 3,
          "metadata": {},
          "output_type": "execute_result"
        }
      ],
      "source": [
        "import numpy as np\n",
        "# Newer version is rng: random number generator\n",
        "rng = np.random.default_rng()\n",
        "rng.integers(5, size = (2,4)) # Gives 2*4 ndarray having random ints b/w 0 to 5."
      ]
    },
    {
      "cell_type": "code",
      "execution_count": 71,
      "id": "0181a3e7-c031-41fe-a238-ba5cf64cbc66",
      "metadata": {},
      "outputs": [
        {
          "data": {
            "text/plain": [
              "array([[3, 5],\n",
              "       [4, 3],\n",
              "       [5, 6]], dtype=int64)"
            ]
          },
          "execution_count": 71,
          "metadata": {},
          "output_type": "execute_result"
        }
      ],
      "source": [
        "rng.integers(2, 9, size = (3,2)) # Same as np.random.randint(2, 9, (3,2))"
      ]
    },
    {
      "cell_type": "code",
      "execution_count": 4,
      "id": "f9c5ceed-dbec-4d10-ae22-449a0c72a360",
      "metadata": {},
      "outputs": [
        {
          "data": {
            "text/plain": [
              "numpy.random._generator.Generator"
            ]
          },
          "execution_count": 4,
          "metadata": {},
          "output_type": "execute_result"
        }
      ],
      "source": [
        "type(rng)"
      ]
    },
    {
      "cell_type": "markdown",
      "id": "e6a4a005",
      "metadata": {},
      "source": [
        "<h3> Unique Items, Transforming Matrix, Reverse Array </h3>"
      ]
    },
    {
      "cell_type": "code",
      "execution_count": 6,
      "id": "ba48004b",
      "metadata": {},
      "outputs": [
        {
          "data": {
            "text/plain": [
              "array([ 4,  6,  7,  8,  9, 10, 11, 12, 13])"
            ]
          },
          "execution_count": 6,
          "metadata": {},
          "output_type": "execute_result"
        }
      ],
      "source": [
        "a = np.array([11,11,12,13,10,9,6,8,7,6,4])\n",
        "np.unique(a)"
      ]
    },
    {
      "cell_type": "code",
      "execution_count": 7,
      "id": "c1ea0bee",
      "metadata": {},
      "outputs": [
        {
          "name": "stdout",
          "output_type": "stream",
          "text": [
            "[ 4  6  7  8  9 10 11 12 13]\n",
            "[1 2 1 1 1 1 2 1 1]\n"
          ]
        }
      ],
      "source": [
        "unique_values, occurance_count = np.unique(a, return_counts=True)\n",
        "print(unique_values)\n",
        "print(occurance_count)"
      ]
    },
    {
      "cell_type": "markdown",
      "id": "fdaefdb6",
      "metadata": {},
      "source": [
        "<h3> Transposing & Flipping Arrays </h3>"
      ]
    },
    {
      "cell_type": "code",
      "execution_count": 16,
      "id": "ab7ce74c",
      "metadata": {},
      "outputs": [
        {
          "data": {
            "text/plain": [
              "array([[2, 4],\n",
              "       [3, 5],\n",
              "       [5, 8]])"
            ]
          },
          "execution_count": 16,
          "metadata": {},
          "output_type": "execute_result"
        }
      ],
      "source": [
        "a = np.array([[2,3,5], [4,5,8]])\n",
        "a.transpose() # Does not change the Array.\n"
      ]
    },
    {
      "cell_type": "code",
      "execution_count": 17,
      "id": "596fdc3f",
      "metadata": {},
      "outputs": [
        {
          "data": {
            "text/plain": [
              "array([[2, 4],\n",
              "       [3, 5],\n",
              "       [5, 8]])"
            ]
          },
          "execution_count": 17,
          "metadata": {},
          "output_type": "execute_result"
        }
      ],
      "source": [
        "a.T # Same as a.transpose. Does not change the array."
      ]
    },
    {
      "cell_type": "code",
      "execution_count": 18,
      "id": "85f5df32",
      "metadata": {},
      "outputs": [
        {
          "data": {
            "text/plain": [
              "array([[2, 3, 5],\n",
              "       [4, 5, 8]])"
            ]
          },
          "execution_count": 18,
          "metadata": {},
          "output_type": "execute_result"
        }
      ],
      "source": [
        "a"
      ]
    },
    {
      "cell_type": "code",
      "execution_count": 19,
      "id": "c41334b1",
      "metadata": {},
      "outputs": [
        {
          "data": {
            "text/plain": [
              "array([[8, 5, 4],\n",
              "       [5, 3, 2]])"
            ]
          },
          "execution_count": 19,
          "metadata": {},
          "output_type": "execute_result"
        }
      ],
      "source": [
        "a = np.array([[2,3,5], [4,5,8]])\n",
        "np.flip(a)"
      ]
    },
    {
      "cell_type": "code",
      "execution_count": 20,
      "id": "144518a7",
      "metadata": {},
      "outputs": [
        {
          "data": {
            "text/plain": [
              "array([[4, 5, 8],\n",
              "       [2, 3, 5]])"
            ]
          },
          "execution_count": 20,
          "metadata": {},
          "output_type": "execute_result"
        }
      ],
      "source": [
        "np.flip(a, axis=0) # only Flips along the rows."
      ]
    },
    {
      "cell_type": "code",
      "execution_count": 21,
      "id": "6c4b026c",
      "metadata": {},
      "outputs": [
        {
          "data": {
            "text/plain": [
              "array([[5, 3, 2],\n",
              "       [8, 5, 4]])"
            ]
          },
          "execution_count": 21,
          "metadata": {},
          "output_type": "execute_result"
        }
      ],
      "source": [
        "np.flip(a, axis = 1)"
      ]
    },
    {
      "cell_type": "markdown",
      "id": "bfb48484",
      "metadata": {},
      "source": [
        "<h3>Very Important: Flatten & Ravel</h3>\n",
        "These are very important in ANN, CNN etc. Converting Multi Dimensional Array to\n",
        "1-D Array or vise versa."
      ]
    },
    {
      "cell_type": "code",
      "execution_count": 23,
      "id": "328daa3b",
      "metadata": {},
      "outputs": [
        {
          "data": {
            "text/plain": [
              "array([ 2,  3,  5,  4,  5,  8, 11, 12, 13])"
            ]
          },
          "execution_count": 23,
          "metadata": {},
          "output_type": "execute_result"
        }
      ],
      "source": [
        "a = np.array([[2,3,5], [4,5,8], [11,12,13]])\n",
        "a.flatten()\n"
      ]
    },
    {
      "cell_type": "code",
      "execution_count": 24,
      "id": "0630430b",
      "metadata": {},
      "outputs": [
        {
          "data": {
            "text/plain": [
              "array([ 2,  3,  5,  4,  5,  8, 11, 12, 13])"
            ]
          },
          "execution_count": 24,
          "metadata": {},
          "output_type": "execute_result"
        }
      ],
      "source": [
        "a.ravel()"
      ]
    },
    {
      "cell_type": "code",
      "execution_count": 28,
      "id": "9a815cda",
      "metadata": {},
      "outputs": [
        {
          "data": {
            "text/plain": [
              "array([[  2,   3,   5],\n",
              "       [100,   5,   8],\n",
              "       [ 11,  12,  13]])"
            ]
          },
          "execution_count": 28,
          "metadata": {},
          "output_type": "execute_result"
        }
      ],
      "source": [
        "# So, we may think both are same. But actually,\n",
        "# if we assign a1 and a2 to them, we will see that ravel() uses the\n",
        "# concept of view. So, change in a2 will get reflected in original arr a.\n",
        "# In case of a1 = a.flatten() it will not happen.\n",
        "a2 = a.ravel()\n",
        "a2[3] = 100\n",
        "a"
      ]
    },
    {
      "cell_type": "code",
      "execution_count": 29,
      "id": "77f81b6f",
      "metadata": {},
      "outputs": [
        {
          "name": "stdout",
          "output_type": "stream",
          "text": [
            "Help on built-in function max in module builtins:\n",
            "\n",
            "max(...)\n",
            "    max(iterable, *[, default=obj, key=func]) -> value\n",
            "    max(arg1, arg2, *args, *[, key=func]) -> value\n",
            "    \n",
            "    With a single iterable argument, return its biggest item. The\n",
            "    default keyword-only argument specifies an object to return if\n",
            "    the provided iterable is empty.\n",
            "    With two or more arguments, return the largest argument.\n",
            "\n"
          ]
        }
      ],
      "source": [
        "# Using help we can see documentation of a method.\n",
        "help(max)"
      ]
    },
    {
      "cell_type": "code",
      "execution_count": 30,
      "id": "22ad9245",
      "metadata": {},
      "outputs": [],
      "source": [
        "# In Numpy, mathematical formula can be used very easily.\n",
        "# In Supervised learning, we use MeanSquareErrorwhich is readily\n",
        "# available in NumPy. We can save & load numpy objects too.\n",
        "# Pandas in built on top of NumPy."
      ]
    },
    {
      "cell_type": "code",
      "execution_count": null,
      "id": "a3a0b912",
      "metadata": {},
      "outputs": [],
      "source": []
    }
  ],
  "metadata": {
    "kernelspec": {
      "display_name": "Python 3 (ipykernel)",
      "language": "python",
      "name": "python3"
    },
    "language_info": {
      "codemirror_mode": {
        "name": "ipython",
        "version": 3
      },
      "file_extension": ".py",
      "mimetype": "text/x-python",
      "name": "python",
      "nbconvert_exporter": "python",
      "pygments_lexer": "ipython3",
      "version": "3.9.6"
    }
  },
  "nbformat": 4,
  "nbformat_minor": 5
}
